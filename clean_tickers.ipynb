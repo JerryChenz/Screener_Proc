{
  "nbformat": 4,
  "nbformat_minor": 0,
  "metadata": {
    "colab": {
      "provenance": [],
      "authorship_tag": "ABX9TyP4kr2BLk9AaazB7lym+h3r",
      "include_colab_link": true
    },
    "kernelspec": {
      "name": "python3",
      "display_name": "Python 3"
    },
    "language_info": {
      "name": "python"
    }
  },
  "cells": [
    {
      "cell_type": "markdown",
      "metadata": {
        "id": "view-in-github",
        "colab_type": "text"
      },
      "source": [
        "<a href=\"https://colab.research.google.com/github/JerryChenz/Screener_Proc_v1/blob/master/clean_tickers.ipynb\" target=\"_parent\"><img src=\"https://colab.research.google.com/assets/colab-badge.svg\" alt=\"Open In Colab\"/></a>"
      ]
    },
    {
      "cell_type": "code",
      "execution_count": 1,
      "metadata": {
        "id": "dkjt1nmN7jDd"
      },
      "outputs": [],
      "source": [
        "\"\"\"\n",
        "Process an Excel file containing stock symbols to extract unique tickers.\n",
        "\n",
        "This function reads an Excel file, filters the data based on specific criteria,\n",
        "and extracts unique tickers into a JSON file. The JSON file can then be used\n",
        "by another program as a list of tickers.\n",
        "\n",
        "Steps:\n",
        "1. Filter the data\n",
        "2. Extract unique tickers from the filtered data.\n",
        "3. Save the unique tickers to a JSON file.\n",
        "\n",
        "Args:\n",
        "    input_file (str): Path to the input Excel file.\n",
        "    output_file (str): Path to the output JSON file.\n",
        "\n",
        "Returns:\n",
        "    None\n",
        "\n",
        "Raises:\n",
        "    FileNotFoundError: If the input file does not exist.\n",
        "    ValueError: If the input file is not a valid Excel file or if the required columns are missing.\n",
        "\"\"\"\n",
        "\n",
        "import pandas as pd\n",
        "import json"
      ]
    },
    {
      "cell_type": "code",
      "source": [
        "def process_hk_stock_symbols(input_file_url, output_file):\n",
        "    \"\"\"\n",
        "    Process an Excel file containing HK stock symbols to extract unique tickers.\n",
        "\n",
        "    This function reads an Excel file from a URL or local path, filters the data based on specific criteria,\n",
        "    and extracts unique tickers into a JSON file. The JSON file can then be used by another program as a list of tickers.\n",
        "\n",
        "    Args:\n",
        "        input_file_url (str): URL or path to the input Excel file.\n",
        "        output_file (str): Path to the output JSON file.\n",
        "\n",
        "    Returns:\n",
        "        None\n",
        "\n",
        "    Raises:\n",
        "        Exception: If there's an issue reading the Excel file or processing the data.\n",
        "    \"\"\"\n",
        "\n",
        "    try:\n",
        "        # Read the Excel file from the URL or local path\n",
        "        df = pd.read_excel(input_file_url, engine='openpyxl', header=2)\n",
        "\n",
        "        # Filter by \"Category\" - select only 'Equity'\n",
        "        equity_df = df[df['Category'] == 'Equity']\n",
        "\n",
        "        # Filter by \"Trading Currency\" - select only 'HKD'\n",
        "        hkd_df = equity_df[equity_df['Trading Currency'] == 'HKD']\n",
        "\n",
        "        # Extract unique tickers\n",
        "        unique_tickers = [f\"{str(int(ticker)).zfill(4)}.HK\"\n",
        "                          for ticker in hkd_df['Stock Code'].unique()]\n",
        "\n",
        "        # Save the unique tickers to a JSON file\n",
        "        with open(output_file, 'w') as json_file:\n",
        "            json.dump(unique_tickers, json_file, indent=4)\n",
        "\n",
        "        print(f\"Successfully saved {len(unique_tickers)} unique tickers to {output_file}\")\n",
        "\n",
        "    except Exception as e:\n",
        "        print(f\"An error occurred: {str(e)}\")"
      ],
      "metadata": {
        "id": "-D-S8WC38Cmo"
      },
      "execution_count": null,
      "outputs": []
    },
    {
      "cell_type": "code",
      "source": [
        "def process_nasdaq_stock_symbols(input_file_url, output_file):\n",
        "    \"\"\"\n",
        "    Process an Excel file containing US Nasdaq stock symbols to extract unique tickers.\n",
        "\n",
        "    This function reads an Excel file from a URL or local path, filters the data based on specific criteria,\n",
        "    and extracts unique tickers into a JSON file. The JSON file can then be used by another program as a list of tickers.\n",
        "\n",
        "    Args:\n",
        "        input_file_url (str): URL or path to the input Excel file.\n",
        "        output_file (str): Path to the output JSON file.\n",
        "\n",
        "    Returns:\n",
        "        None\n",
        "\n",
        "    Raises:\n",
        "        Exception: If there's an issue reading the Excel file or processing the data.\n",
        "    \"\"\"\n",
        "\n",
        "    try:\n",
        "        # Read the Excel file from the URL or local path\n",
        "        df = pd.read_csv(input_file_url, header=0)\n",
        "\n",
        "        # Filter by \"Market Cap\"\n",
        "        equity_df = df[df['Market Cap'] >= 10000000]\n",
        "\n",
        "        # Extract unique tickers\n",
        "        unique_tickers = [ticker for ticker in equity_df['Symbol'].unique()]\n",
        "\n",
        "        # Save the unique tickers to a JSON file\n",
        "        with open(output_file, 'w') as json_file:\n",
        "            json.dump(unique_tickers, json_file, indent=4)\n",
        "\n",
        "        print(f\"Successfully saved {len(unique_tickers)} unique tickers to {output_file}\")\n",
        "\n",
        "    except Exception as e:\n",
        "        print(f\"An error occurred: {str(e)}\")"
      ],
      "metadata": {
        "id": "EF2kAzLV93Rg"
      },
      "execution_count": null,
      "outputs": []
    },
    {
      "cell_type": "code",
      "source": [
        "def process_nyse_stock_symbols(input_file_url, output_file):\n",
        "    \"\"\"\n",
        "    Process an Excel file containing US NYSE stock symbols to extract unique tickers.\n",
        "\n",
        "    This function reads an Excel file from a URL or local path, filters the data based on specific criteria,\n",
        "    and extracts unique tickers into a JSON file. The JSON file can then be used by another program as a list of tickers.\n",
        "\n",
        "    Args:\n",
        "        input_file_url (str): URL or path to the input Excel file.\n",
        "        output_file (str): Path to the output JSON file.\n",
        "\n",
        "    Returns:\n",
        "        None\n",
        "\n",
        "    Raises:\n",
        "        Exception: If there's an issue reading the Excel file or processing the data.\n",
        "    \"\"\"\n",
        "\n",
        "    try:\n",
        "        # Read the Excel file from the URL or local path\n",
        "        df = pd.read_csv(input_file_url, header=0)\n",
        "\n",
        "        # Filter out symbols containing $ and NaN values\n",
        "        mask = df['ACT Symbol'].notna() & ~df['ACT Symbol'].str.contains(r'\\$', na=False)\n",
        "        equity_df = df[mask]\n",
        "\n",
        "        # Extract unique tickers\n",
        "        unique_tickers = [ticker for ticker in equity_df['ACT Symbol'].unique()]\n",
        "\n",
        "        # Save the unique tickers to a JSON file\n",
        "        with open(output_file, 'w') as json_file:\n",
        "            json.dump(unique_tickers, json_file, indent=4)\n",
        "\n",
        "        print(f\"Successfully saved {len(unique_tickers)} unique tickers to {output_file}\")\n",
        "\n",
        "    except Exception as e:\n",
        "        print(f\"An error occurred: {str(e)}\")"
      ],
      "metadata": {
        "id": "HLNLt-dIiTKQ"
      },
      "execution_count": 7,
      "outputs": []
    },
    {
      "cell_type": "code",
      "source": [
        "hk_tickers_source = 'https://github.com/JerryChenz/Screener_Proc_v1/blob/master/data/ticker_library/source/HKEX_ListOfSecurities.xlsx?raw=true'\n",
        "process_hk_stock_symbols(hk_tickers_source, 'hk_unique_tickers.json')"
      ],
      "metadata": {
        "colab": {
          "base_uri": "https://localhost:8080/"
        },
        "id": "8LxKxW95_8Y_",
        "outputId": "8ecbb5cd-e216-4b3f-c96f-c4a3e6a55ba5"
      },
      "execution_count": null,
      "outputs": [
        {
          "output_type": "stream",
          "name": "stdout",
          "text": [
            "An error occurred: File is not a zip file\n"
          ]
        }
      ]
    },
    {
      "cell_type": "code",
      "source": [
        "nasdaq_tickers_source = 'https://github.com/JerryChenz/Screener_Proc_v1/blob/master/data/ticker_library/source/nasdaq_screener.csv?raw=true'\n",
        "process_nasdaq_stock_symbols(nasdaq_tickers_source, 'us_nasdaq_tickers.json')"
      ],
      "metadata": {
        "id": "1F-dKqbz_hF5",
        "outputId": "5981079f-6e33-4a5e-a287-3c4ece5a8348",
        "colab": {
          "base_uri": "https://localhost:8080/"
        }
      },
      "execution_count": null,
      "outputs": [
        {
          "output_type": "stream",
          "name": "stdout",
          "text": [
            "Successfully saved 3047 unique tickers to us_unique_tickers.json\n"
          ]
        }
      ]
    },
    {
      "cell_type": "code",
      "source": [
        "nyse_tickers_source = 'https://github.com/JerryChenz/Screener_Proc_v1/blob/master/data/ticker_library/source/nyse_listed.csv?raw=true'\n",
        "process_nyse_stock_symbols(nyse_tickers_source, 'us_nyse_tickers.json')"
      ],
      "metadata": {
        "id": "vkV3i2y_iwxX",
        "outputId": "f628faa3-5e72-4f11-c369-078d3a2716f7",
        "colab": {
          "base_uri": "https://localhost:8080/"
        }
      },
      "execution_count": 8,
      "outputs": [
        {
          "output_type": "stream",
          "name": "stdout",
          "text": [
            "Successfully saved 2501 unique tickers to nyse_unique_tickers.json\n"
          ]
        }
      ]
    }
  ]
}