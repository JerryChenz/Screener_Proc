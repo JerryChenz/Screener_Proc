{
  "nbformat": 4,
  "nbformat_minor": 0,
  "metadata": {
    "colab": {
      "provenance": [],
      "include_colab_link": true
    },
    "kernelspec": {
      "name": "python3",
      "display_name": "Python 3"
    },
    "language_info": {
      "name": "python"
    }
  },
  "cells": [
    {
      "cell_type": "markdown",
      "metadata": {
        "id": "view-in-github",
        "colab_type": "text"
      },
      "source": [
        "<a href=\"https://colab.research.google.com/github/JerryChenz/Screener_Proc_v1/blob/master/clean_tickers.ipynb\" target=\"_parent\"><img src=\"https://colab.research.google.com/assets/colab-badge.svg\" alt=\"Open In Colab\"/></a>"
      ]
    },
    {
      "cell_type": "markdown",
      "source": [
        "# Initiation"
      ],
      "metadata": {
        "id": "sH1cXTTFNLRg"
      }
    },
    {
      "cell_type": "code",
      "execution_count": 1,
      "metadata": {
        "id": "dkjt1nmN7jDd"
      },
      "outputs": [],
      "source": [
        "\"\"\"\n",
        "Process an Excel file containing stock symbols to extract unique tickers.\n",
        "\n",
        "This function reads an Excel file, filters the data based on specific criteria,\n",
        "and extracts unique tickers into a JSON file. The JSON file can then be used\n",
        "by another program as a list of tickers.\n",
        "\n",
        "Steps:\n",
        "1. Filter the data\n",
        "2. Extract unique tickers from the filtered data.\n",
        "3. Save the unique tickers to a JSON file.\n",
        "\n",
        "Args:\n",
        "    input_file (str): Path to the input Excel file.\n",
        "    output_file (str): Path to the output JSON file.\n",
        "\n",
        "Returns:\n",
        "    None\n",
        "\n",
        "Raises:\n",
        "    FileNotFoundError: If the input file does not exist.\n",
        "    ValueError: If the input file is not a valid Excel file or if the required columns are missing.\n",
        "\"\"\"\n",
        "\n",
        "import pandas as pd\n",
        "import json"
      ]
    },
    {
      "cell_type": "code",
      "source": [
        "def process_hk_stock_symbols(input_file_url, output_file):\n",
        "    \"\"\"\n",
        "    Process an Excel file containing HK stock symbols to extract unique tickers.\n",
        "\n",
        "    This function reads an Excel file from a URL or local path, filters the data based on specific criteria,\n",
        "    and extracts unique tickers into a JSON file. The JSON file can then be used by another program as a list of tickers.\n",
        "\n",
        "    Args:\n",
        "        input_file_url (str): URL or path to the input Excel file.\n",
        "        output_file (str): Path to the output JSON file.\n",
        "\n",
        "    Returns:\n",
        "        None\n",
        "\n",
        "    Raises:\n",
        "        Exception: If there's an issue reading the Excel file or processing the data.\n",
        "    \"\"\"\n",
        "\n",
        "    try:\n",
        "        # Read the Excel file from the URL or local path\n",
        "        df = pd.read_excel(input_file_url, engine='openpyxl', header=2)\n",
        "\n",
        "        # Filter by \"Category\" - select only 'Equity'\n",
        "        equity_df = df[df['Category'] == 'Equity']\n",
        "\n",
        "        # Filter by \"Trading Currency\" - select only 'HKD'\n",
        "        hkd_df = equity_df[equity_df['Trading Currency'] == 'HKD']\n",
        "\n",
        "        # Extract unique tickers\n",
        "        unique_tickers = [f\"{str(int(ticker)).zfill(4)}.HK\"\n",
        "                          for ticker in hkd_df['Stock Code'].unique()]\n",
        "\n",
        "        # Save the unique tickers to a JSON file\n",
        "        with open(output_file, 'w') as json_file:\n",
        "            json.dump(unique_tickers, json_file, indent=4)\n",
        "\n",
        "        print(f\"Successfully saved {len(unique_tickers)} unique tickers to {output_file}\")\n",
        "\n",
        "    except Exception as e:\n",
        "        print(f\"An error occurred: {str(e)}\")"
      ],
      "metadata": {
        "id": "-D-S8WC38Cmo"
      },
      "execution_count": 2,
      "outputs": []
    },
    {
      "cell_type": "code",
      "source": [
        "def process_nasdaq_stock_symbols(input_file_url, output_file):\n",
        "    \"\"\"\n",
        "    Process an Excel file containing US Nasdaq stock symbols to extract unique tickers.\n",
        "\n",
        "    This function reads an Excel file from a URL or local path, filters the data based on specific criteria,\n",
        "    and extracts unique tickers into a JSON file. The JSON file can then be used by another program as a list of tickers.\n",
        "\n",
        "    Args:\n",
        "        input_file_url (str): URL or path to the input Excel file.\n",
        "        output_file (str): Path to the output JSON file.\n",
        "\n",
        "    Returns:\n",
        "        None\n",
        "\n",
        "    Raises:\n",
        "        Exception: If there's an issue reading the Excel file or processing the data.\n",
        "    \"\"\"\n",
        "\n",
        "    try:\n",
        "        # Read the Excel file from the URL or local path\n",
        "        df = pd.read_csv(input_file_url, header=0)\n",
        "\n",
        "        # Filter by \"Market Cap\"\n",
        "        equity_df = df[df['Market Cap'] >= 10000000]\n",
        "\n",
        "        # Extract unique tickers\n",
        "        unique_tickers = [ticker for ticker in equity_df['Symbol'].unique()]\n",
        "\n",
        "        # Save the unique tickers to a JSON file\n",
        "        with open(output_file, 'w') as json_file:\n",
        "            json.dump(unique_tickers, json_file, indent=4)\n",
        "\n",
        "        print(f\"Successfully saved {len(unique_tickers)} unique tickers to {output_file}\")\n",
        "\n",
        "    except Exception as e:\n",
        "        print(f\"An error occurred: {str(e)}\")"
      ],
      "metadata": {
        "id": "EF2kAzLV93Rg"
      },
      "execution_count": 3,
      "outputs": []
    },
    {
      "cell_type": "code",
      "source": [
        "def process_nyse_stock_symbols(input_file_url, output_file):\n",
        "    \"\"\"\n",
        "    Process an Excel file containing US NYSE stock symbols to extract unique tickers.\n",
        "\n",
        "    This function reads an Excel file from a URL or local path, filters the data based on specific criteria,\n",
        "    and extracts unique tickers into a JSON file. The JSON file can then be used by another program as a list of tickers.\n",
        "\n",
        "    Args:\n",
        "        input_file_url (str): URL or path to the input Excel file.\n",
        "        output_file (str): Path to the output JSON file.\n",
        "\n",
        "    Returns:\n",
        "        None\n",
        "\n",
        "    Raises:\n",
        "        Exception: If there's an issue reading the Excel file or processing the data.\n",
        "    \"\"\"\n",
        "\n",
        "    try:\n",
        "        # Read the Excel file from the URL or local path\n",
        "        df = pd.read_csv(input_file_url, header=0)\n",
        "\n",
        "        # Filter\n",
        "        mask = (\n",
        "            df['ACT Symbol'].notna() &  # Exclude NaN values\n",
        "            ~df['ACT Symbol'].str.contains(r'\\$', na=False) &  # Exclude $\n",
        "            ~df['ACT Symbol'].str.contains(r'\\.[A-Za-z]', na=False)  # Exclude .letter patterns\n",
        "        )\n",
        "\n",
        "        equity_df = df[mask]\n",
        "\n",
        "        # Extract unique tickers\n",
        "        unique_tickers = [ticker for ticker in equity_df['ACT Symbol'].unique()]\n",
        "\n",
        "        # Save the unique tickers to a JSON file\n",
        "        with open(output_file, 'w') as json_file:\n",
        "            json.dump(unique_tickers, json_file, indent=4)\n",
        "\n",
        "        print(f\"Successfully saved {len(unique_tickers)} unique tickers to {output_file}\")\n",
        "\n",
        "    except Exception as e:\n",
        "        print(f\"An error occurred: {str(e)}\")"
      ],
      "metadata": {
        "id": "HLNLt-dIiTKQ"
      },
      "execution_count": 4,
      "outputs": []
    },
    {
      "cell_type": "code",
      "source": [
        "def process_ss_stock_symbols(input_file_url, output_file):\n",
        "    \"\"\"\n",
        "    Process an Excel file containing Chinese Shanghai stock exchange symbols to extract unique tickers.\n",
        "\n",
        "    This function reads an Excel file from a URL or local path, filters the data based on specific criteria,\n",
        "    and extracts unique tickers into a JSON file. The JSON file can then be used by another program as a list of tickers.\n",
        "\n",
        "    Args:\n",
        "        input_file_url (str): URL or path to the input Excel file.\n",
        "        output_file (str): Path to the output JSON file.\n",
        "\n",
        "    Returns:\n",
        "        None\n",
        "\n",
        "    Raises:\n",
        "        Exception: If there's an issue reading the Excel file or processing the data.\n",
        "    \"\"\"\n",
        "\n",
        "    try:\n",
        "        # Read the Excel file using 'xlrd' engine for .xls format\n",
        "        df = pd.read_excel(input_file_url, engine='xlrd', header=0)\n",
        "\n",
        "        # Extract unique tickers\n",
        "        unique_tickers = [f\"{str(int(ticker)).zfill(6)}.SS\"\n",
        "                          for ticker in df['A股代码'].unique()]\n",
        "\n",
        "        # Save the unique tickers to a JSON file\n",
        "        with open(output_file, 'w') as json_file:\n",
        "            json.dump(unique_tickers, json_file, indent=4)\n",
        "\n",
        "        print(f\"Successfully saved {len(unique_tickers)} unique tickers to {output_file}\")\n",
        "\n",
        "    except Exception as e:\n",
        "        print(f\"An error occurred: {str(e)}\")"
      ],
      "metadata": {
        "id": "_M83kxayLarX"
      },
      "execution_count": 17,
      "outputs": []
    },
    {
      "cell_type": "code",
      "source": [
        "def process_sz_stock_symbols(input_file_url, output_file):\n",
        "    \"\"\"\n",
        "    Process an Excel file containing Chinese Shenzhen stock exchange symbols to extract unique tickers.\n",
        "\n",
        "    This function reads an Excel file from a URL or local path, filters the data based on specific criteria,\n",
        "    and extracts unique tickers into a JSON file. The JSON file can then be used by another program as a list of tickers.\n",
        "\n",
        "    Args:\n",
        "        input_file_url (str): URL or path to the input Excel file.\n",
        "        output_file (str): Path to the output JSON file.\n",
        "\n",
        "    Returns:\n",
        "        None\n",
        "\n",
        "    Raises:\n",
        "        Exception: If there's an issue reading the Excel file or processing the data.\n",
        "    \"\"\"\n",
        "\n",
        "    try:\n",
        "        # Read the Excel file using 'xlrd' engine for .xls format\n",
        "        df = pd.read_excel(input_file_url, engine='openpyxl', header=0)\n",
        "\n",
        "        # Extract unique tickers\n",
        "        unique_tickers = [f\"{str(int(ticker)).zfill(6)}.SZ\"\n",
        "                          for ticker in df['A股代码'].unique()]\n",
        "\n",
        "        # Save the unique tickers to a JSON file\n",
        "        with open(output_file, 'w') as json_file:\n",
        "            json.dump(unique_tickers, json_file, indent=4)\n",
        "\n",
        "        print(f\"Successfully saved {len(unique_tickers)} unique tickers to {output_file}\")\n",
        "\n",
        "    except Exception as e:\n",
        "        print(f\"An error occurred: {str(e)}\")"
      ],
      "metadata": {
        "id": "ehUxcis-QN5R"
      },
      "execution_count": 24,
      "outputs": []
    },
    {
      "cell_type": "markdown",
      "source": [
        "# Get the list of tickers"
      ],
      "metadata": {
        "id": "ghgC8NbTNQdB"
      }
    },
    {
      "cell_type": "code",
      "source": [
        "hk_tickers_source = 'https://github.com/JerryChenz/Screener_Proc_v1/blob/master/data/ticker_library/source/HKEX_ListOfSecurities.xlsx?raw=true'\n",
        "process_hk_stock_symbols(hk_tickers_source, 'hk_unique_tickers.json')"
      ],
      "metadata": {
        "colab": {
          "base_uri": "https://localhost:8080/"
        },
        "id": "8LxKxW95_8Y_",
        "outputId": "737d7d17-f202-4386-a043-cfc3ff575cbd"
      },
      "execution_count": null,
      "outputs": [
        {
          "output_type": "stream",
          "name": "stdout",
          "text": [
            "Successfully saved 2646 unique tickers to hk_unique_tickers.json\n"
          ]
        }
      ]
    },
    {
      "cell_type": "code",
      "source": [
        "nasdaq_tickers_source = 'https://github.com/JerryChenz/Screener_Proc_v1/blob/master/data/ticker_library/source/nasdaq_screener.csv?raw=true'\n",
        "process_nasdaq_stock_symbols(nasdaq_tickers_source, 'us_nasdaq_tickers.json')"
      ],
      "metadata": {
        "id": "1F-dKqbz_hF5",
        "outputId": "5981079f-6e33-4a5e-a287-3c4ece5a8348",
        "colab": {
          "base_uri": "https://localhost:8080/"
        }
      },
      "execution_count": null,
      "outputs": [
        {
          "output_type": "stream",
          "name": "stdout",
          "text": [
            "Successfully saved 3047 unique tickers to us_unique_tickers.json\n"
          ]
        }
      ]
    },
    {
      "cell_type": "code",
      "source": [
        "nyse_tickers_source = 'https://github.com/JerryChenz/Screener_Proc_v1/blob/master/data/ticker_library/source/nyse_listed.csv?raw=true'\n",
        "process_nyse_stock_symbols(nyse_tickers_source, 'us_nyse_tickers.json')"
      ],
      "metadata": {
        "colab": {
          "base_uri": "https://localhost:8080/"
        },
        "id": "vkV3i2y_iwxX",
        "outputId": "baa064ef-ccc5-4d5c-b28d-79f31ad80c68"
      },
      "execution_count": null,
      "outputs": [
        {
          "output_type": "stream",
          "name": "stdout",
          "text": [
            "Successfully saved 2410 unique tickers to us_nyse_tickers.json\n"
          ]
        }
      ]
    },
    {
      "cell_type": "code",
      "source": [
        "ss_tickers_source = 'https://github.com/JerryChenz/Screener_Proc_v1/blob/master/data/ticker_library/source/ss_listed.xls?raw=true'\n",
        "process_ss_stock_symbols(ss_tickers_source, 'cn_ss_tickers.json')"
      ],
      "metadata": {
        "id": "BuBvxIi4MKP7",
        "outputId": "17debee7-b6d4-496e-e99f-a8202f3859ac",
        "colab": {
          "base_uri": "https://localhost:8080/"
        }
      },
      "execution_count": 18,
      "outputs": [
        {
          "output_type": "stream",
          "name": "stdout",
          "text": [
            "Successfully saved 1695 unique tickers to cn_ss_tickers.json\n"
          ]
        }
      ]
    },
    {
      "cell_type": "code",
      "source": [
        "sz_tickers_source = 'https://github.com/JerryChenz/Screener_Proc_v1/blob/master/data/ticker_library/source/sz_listed.xlsx?raw=true'\n",
        "process_sz_stock_symbols(sz_tickers_source, 'cn_sz_tickers.json')"
      ],
      "metadata": {
        "id": "v4CPScF-QkD9",
        "outputId": "21e7f790-a992-4a84-9804-25576dbc8156",
        "colab": {
          "base_uri": "https://localhost:8080/"
        }
      },
      "execution_count": 25,
      "outputs": [
        {
          "output_type": "stream",
          "name": "stderr",
          "text": [
            "/usr/local/lib/python3.11/dist-packages/openpyxl/styles/stylesheet.py:237: UserWarning: Workbook contains no default style, apply openpyxl's default\n",
            "  warn(\"Workbook contains no default style, apply openpyxl's default\")\n"
          ]
        },
        {
          "output_type": "stream",
          "name": "stdout",
          "text": [
            "Successfully saved 2866 unique tickers to cn_sz_tickers.json\n"
          ]
        }
      ]
    }
  ]
}