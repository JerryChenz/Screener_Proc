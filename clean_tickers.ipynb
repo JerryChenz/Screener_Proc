{
  "nbformat": 4,
  "nbformat_minor": 0,
  "metadata": {
    "colab": {
      "provenance": [],
      "authorship_tag": "ABX9TyOYL6td9BqB0ZE8Jzggz9IP",
      "include_colab_link": true
    },
    "kernelspec": {
      "name": "python3",
      "display_name": "Python 3"
    },
    "language_info": {
      "name": "python"
    }
  },
  "cells": [
    {
      "cell_type": "markdown",
      "metadata": {
        "id": "view-in-github",
        "colab_type": "text"
      },
      "source": [
        "<a href=\"https://colab.research.google.com/github/JerryChenz/Screener_Proc_v1/blob/master/clean_tickers.ipynb\" target=\"_parent\"><img src=\"https://colab.research.google.com/assets/colab-badge.svg\" alt=\"Open In Colab\"/></a>"
      ]
    },
    {
      "cell_type": "code",
      "execution_count": null,
      "metadata": {
        "id": "dkjt1nmN7jDd"
      },
      "outputs": [],
      "source": [
        "\"\"\"\n",
        "Process an Excel file containing HK stock symbols to extract unique tickers.\n",
        "\n",
        "This function reads an Excel file, filters the data based on specific criteria,\n",
        "and extracts unique tickers into a JSON file. The JSON file can then be used\n",
        "by another program as a list of tickers.\n",
        "\n",
        "Steps:\n",
        "1. Filter the data by \"Category\", selecting only rows where the value is 'Equity'.\n",
        "2. Filter the data by \"Trading Currency\", selecting only rows where the value is 'HKD'.\n",
        "3. Extract unique tickers from the filtered data.\n",
        "4. Save the unique tickers to a JSON file.\n",
        "\n",
        "Args:\n",
        "    input_file (str): Path to the input Excel file.\n",
        "    output_file (str): Path to the output JSON file.\n",
        "\n",
        "Returns:\n",
        "    None\n",
        "\n",
        "Raises:\n",
        "    FileNotFoundError: If the input file does not exist.\n",
        "    ValueError: If the input file is not a valid Excel file or if the required columns are missing.\n",
        "\n",
        "Note:\n",
        "    This function assumes that the input Excel file contains columns named 'Category' and 'Trading Currency'.\n",
        "    The function also assumes that the ticker symbols are stored in a column named 'Ticker'.\n",
        "\"\"\"\n",
        "\n",
        "import pandas as pd\n",
        "import json\n",
        "\n",
        "input_file_url = 'https://github.com/JerryChenz/Screener_Proc_v1/blob/master/data/ticker_library/source/HKEX_ListOfSecurities.xlsx'"
      ]
    },
    {
      "cell_type": "code",
      "source": [
        "def process_hk_stock_symbols(input_file_url, output_file):\n",
        "    \"\"\"\n",
        "    Process an Excel file containing HK stock symbols to extract unique tickers.\n",
        "\n",
        "    This function reads an Excel file from a URL or local path, filters the data based on specific criteria,\n",
        "    and extracts unique tickers into a JSON file. The JSON file can then be used by another program as a list of tickers.\n",
        "\n",
        "    Args:\n",
        "        input_file_url (str): URL or path to the input Excel file.\n",
        "        output_file (str): Path to the output JSON file.\n",
        "\n",
        "    Returns:\n",
        "        None\n",
        "\n",
        "    Raises:\n",
        "        Exception: If there's an issue reading the Excel file or processing the data.\n",
        "    \"\"\"\n",
        "\n",
        "    try:\n",
        "        # Read the Excel file from the URL or local path\n",
        "        df = pd.read_excel(input_file_url, engine='openpyxl', header=2)\n",
        "\n",
        "        # Filter by \"Category\" - select only 'Equity'\n",
        "        equity_df = df[df['Category'] == 'Equity']\n",
        "\n",
        "        # Filter by \"Trading Currency\" - select only 'HKD'\n",
        "        hkd_df = equity_df[equity_df['Trading Currency'] == 'HKD']\n",
        "\n",
        "        # Extract unique tickers\n",
        "        unique_tickers = [f\"{str(int(ticker)).zfill(4)}.HK\"\n",
        "                          for ticker in hkd_df['Stock Code'].unique()]\n",
        "\n",
        "        # Save the unique tickers to a JSON file\n",
        "        with open(output_file, 'w') as json_file:\n",
        "            json.dump(unique_tickers, json_file, indent=4)\n",
        "\n",
        "        print(f\"Successfully saved {len(unique_tickers)} unique tickers to {output_file}\")\n",
        "\n",
        "    except Exception as e:\n",
        "        print(f\"An error occurred: {str(e)}\")"
      ],
      "metadata": {
        "id": "-D-S8WC38Cmo"
      },
      "execution_count": null,
      "outputs": []
    },
    {
      "cell_type": "code",
      "source": [
        "hk_tickers_source = 'https://github.com/JerryChenz/Screener_Proc_v1/blob/master/data/ticker_library/HKEX_ListOfSecurities.xlsx?raw=true'\n",
        "output_json = 'hk_unique_tickers.json'\n",
        "process_hk_stock_symbols(hk_tickers_source, output_json)"
      ],
      "metadata": {
        "colab": {
          "base_uri": "https://localhost:8080/"
        },
        "id": "8LxKxW95_8Y_",
        "outputId": "b0a9d630-a2e5-4548-8854-d8aa516a95e1"
      },
      "execution_count": null,
      "outputs": [
        {
          "output_type": "stream",
          "name": "stdout",
          "text": [
            "Successfully saved 2646 unique tickers to hk_unique_tickers.json\n"
          ]
        }
      ]
    }
  ]
}