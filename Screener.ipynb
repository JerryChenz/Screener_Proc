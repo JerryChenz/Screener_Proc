{
  "nbformat": 4,
  "nbformat_minor": 0,
  "metadata": {
    "colab": {
      "provenance": [],
      "authorship_tag": "ABX9TyPmIsV6UcxC5lU8Zr4mriVU",
      "include_colab_link": true
    },
    "kernelspec": {
      "name": "python3",
      "display_name": "Python 3"
    },
    "language_info": {
      "name": "python"
    }
  },
  "cells": [
    {
      "cell_type": "markdown",
      "metadata": {
        "id": "view-in-github",
        "colab_type": "text"
      },
      "source": [
        "<a href=\"https://colab.research.google.com/github/JerryChenz/Stock_screener/blob/master/Screener.ipynb\" target=\"_parent\"><img src=\"https://colab.research.google.com/assets/colab-badge.svg\" alt=\"Open In Colab\"/></a>"
      ]
    },
    {
      "cell_type": "code",
      "execution_count": null,
      "metadata": {
        "id": "BWt6y3ouHSNQ"
      },
      "outputs": [],
      "source": [
        "\n",
        "class InitalScreen:\n",
        "  '''Inital Screening of the Venture'''\n",
        "\n",
        "  def __init__(self, investment_size, sector, location, stage):\n",
        "    self.investment_size = investment_size\n",
        "    self.sector = sector\n",
        "    self.location = location\n",
        "    self.stage = stage\n",
        "\n",
        "  @property\n",
        "  def size_score(self):\n",
        "    if investment_size < 500 or investment_size > 100:\n",
        "      inital_score = inital_score + 1\n",
        "      print(inital_score)\n",
        "\n",
        "\n",
        "  def x__init__(self, size_score, sector_score, location_score, maturity_score):\n",
        "    self.size_score = size_score\n",
        "    self.sector_score = sector_score\n",
        "    self.location_score = location_score\n",
        "    self.maturity_score = maturity_score\n",
        "    self.total = self.size_score + self.sector_score + self.location_score + self.maturity_score"
      ]
    },
    {
      "cell_type": "code",
      "source": [
        "inital_score = 0\n",
        "investment_size = 400 #@param {type:\"number\"}\n",
        "\n",
        "if investment_size < 500 or investment_size > 100:\n",
        "  print('ok')\n",
        "  inital_score = inital_score + 1\n",
        "  print(inital_score)"
      ],
      "metadata": {
        "id": "kvB4p0H8IWb1"
      },
      "execution_count": null,
      "outputs": []
    }
  ]
}